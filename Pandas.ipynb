{
  "nbformat": 4,
  "nbformat_minor": 0,
  "metadata": {
    "colab": {
      "name": "Pandas.ipynb",
      "provenance": [],
      "authorship_tag": "ABX9TyMkzLy5j3lzzN6sFaGQdU1s",
      "include_colab_link": true
    },
    "kernelspec": {
      "name": "python3",
      "display_name": "Python 3"
    }
  },
  "cells": [
    {
      "cell_type": "markdown",
      "metadata": {
        "id": "view-in-github",
        "colab_type": "text"
      },
      "source": [
        "<a href=\"https://colab.research.google.com/github/michelleruas/Data_Visualisation/blob/master/Pandas.ipynb\" target=\"_parent\"><img src=\"https://colab.research.google.com/assets/colab-badge.svg\" alt=\"Open In Colab\"/></a>"
      ]
    },
    {
      "cell_type": "markdown",
      "metadata": {
        "id": "fyaoafh5wexX",
        "colab_type": "text"
      },
      "source": [
        "#Pandas"
      ]
    },
    {
      "cell_type": "code",
      "metadata": {
        "id": "lal_L4XlwcRp",
        "colab_type": "code",
        "colab": {}
      },
      "source": [
        "#Import libraries\n",
        "import pandas as pd\n",
        "import numpy as np"
      ],
      "execution_count": 1,
      "outputs": []
    },
    {
      "cell_type": "code",
      "metadata": {
        "id": "tGcaSGODwf2_",
        "colab_type": "code",
        "colab": {
          "base_uri": "https://localhost:8080/",
          "height": 102
        },
        "outputId": "6d5e4cdf-061e-498b-8ca6-2ac8206f2db2"
      },
      "source": [
        "#Series and Dataframes\n",
        "s = pd.Series(np.random.rand(4), name = 'daily_returns')\n",
        "s"
      ],
      "execution_count": 2,
      "outputs": [
        {
          "output_type": "execute_result",
          "data": {
            "text/plain": [
              "0    0.767540\n",
              "1    0.674429\n",
              "2    0.209019\n",
              "3    0.876142\n",
              "Name: daily_returns, dtype: float64"
            ]
          },
          "metadata": {
            "tags": []
          },
          "execution_count": 2
        }
      ]
    },
    {
      "cell_type": "code",
      "metadata": {
        "id": "hLtF-WBGxA-a",
        "colab_type": "code",
        "colab": {
          "base_uri": "https://localhost:8080/",
          "height": 102
        },
        "outputId": "835f69a8-54c8-4636-d16d-e56a060c2a9e"
      },
      "source": [
        "s*100"
      ],
      "execution_count": 3,
      "outputs": [
        {
          "output_type": "execute_result",
          "data": {
            "text/plain": [
              "0    76.754039\n",
              "1    67.442885\n",
              "2    20.901903\n",
              "3    87.614175\n",
              "Name: daily_returns, dtype: float64"
            ]
          },
          "metadata": {
            "tags": []
          },
          "execution_count": 3
        }
      ]
    },
    {
      "cell_type": "code",
      "metadata": {
        "id": "bYyx0yFUxI7j",
        "colab_type": "code",
        "colab": {
          "base_uri": "https://localhost:8080/",
          "height": 102
        },
        "outputId": "9c2f3f4b-5af9-4738-f52b-9069eadabcfa"
      },
      "source": [
        "np.abs(s)"
      ],
      "execution_count": 4,
      "outputs": [
        {
          "output_type": "execute_result",
          "data": {
            "text/plain": [
              "0    0.767540\n",
              "1    0.674429\n",
              "2    0.209019\n",
              "3    0.876142\n",
              "Name: daily_returns, dtype: float64"
            ]
          },
          "metadata": {
            "tags": []
          },
          "execution_count": 4
        }
      ]
    },
    {
      "cell_type": "code",
      "metadata": {
        "id": "gHly8ABlxLNJ",
        "colab_type": "code",
        "colab": {
          "base_uri": "https://localhost:8080/",
          "height": 170
        },
        "outputId": "8d616936-5a04-4604-d0f1-4c632e693a1f"
      },
      "source": [
        "#Method that generate statistics that represent the data excluding NaN values\n",
        "s.describe()"
      ],
      "execution_count": 6,
      "outputs": [
        {
          "output_type": "execute_result",
          "data": {
            "text/plain": [
              "count    4.000000\n",
              "mean     0.631783\n",
              "std      0.293649\n",
              "min      0.209019\n",
              "25%      0.558076\n",
              "50%      0.720985\n",
              "75%      0.794691\n",
              "max      0.876142\n",
              "Name: daily_returns, dtype: float64"
            ]
          },
          "metadata": {
            "tags": []
          },
          "execution_count": 6
        }
      ]
    },
    {
      "cell_type": "code",
      "metadata": {
        "id": "ziT9xdXLxN_1",
        "colab_type": "code",
        "colab": {}
      },
      "source": [
        ""
      ],
      "execution_count": null,
      "outputs": []
    }
  ]
}